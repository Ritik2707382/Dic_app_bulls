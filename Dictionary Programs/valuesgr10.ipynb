{
  "nbformat": 4,
  "nbformat_minor": 0,
  "metadata": {
    "colab": {
      "provenance": []
    },
    "kernelspec": {
      "name": "python3",
      "display_name": "Python 3"
    },
    "language_info": {
      "name": "python"
    }
  },
  "cells": [
    {
      "cell_type": "code",
      "source": [
        "dict_1={'a':1,'b':20}\n",
        "dict_2={}\n",
        "for keys,values in dict_1.items():\n",
        "  if values>10:\n",
        "    dict_2[keys]=values\n",
        "print(dict_2)"
      ],
      "metadata": {
        "colab": {
          "base_uri": "https://localhost:8080/"
        },
        "id": "YuYnKUh-fIFY",
        "outputId": "9035a01d-6430-4e86-ad29-64b0a3e00a22"
      },
      "execution_count": 9,
      "outputs": [
        {
          "output_type": "stream",
          "name": "stdout",
          "text": [
            "{'b': 20}\n"
          ]
        }
      ]
    }
  ]
}