{
  "nbformat": 4,
  "nbformat_minor": 0,
  "metadata": {
    "colab": {
      "provenance": []
    },
    "kernelspec": {
      "name": "python3",
      "display_name": "Python 3"
    },
    "language_info": {
      "name": "python"
    }
  },
  "cells": [
    {
      "cell_type": "code",
      "execution_count": 13,
      "metadata": {
        "colab": {
          "base_uri": "https://localhost:8080/"
        },
        "id": "-BcqwCJTXMUP",
        "outputId": "eb3fd047-b63a-449b-e997-dfb4c732be78"
      },
      "outputs": [
        {
          "output_type": "stream",
          "name": "stdout",
          "text": [
            "[2, 5, 10]\n"
          ]
        }
      ],
      "source": [
        "dict1={'a':10,'b':5,'c':2}\n",
        "value_list=[]\n",
        "for values in dict1.values():\n",
        "  value_list.append(values)\n",
        "  value_list.sort()\n",
        "print(value_list)"
      ]
    }
  ]
}