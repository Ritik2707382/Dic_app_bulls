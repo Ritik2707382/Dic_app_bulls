{
  "nbformat": 4,
  "nbformat_minor": 0,
  "metadata": {
    "colab": {
      "provenance": []
    },
    "kernelspec": {
      "name": "python3",
      "display_name": "Python 3"
    },
    "language_info": {
      "name": "python"
    }
  },
  "cells": [
    {
      "cell_type": "code",
      "execution_count": 3,
      "metadata": {
        "colab": {
          "base_uri": "https://localhost:8080/"
        },
        "id": "92SWQ3jfYspk",
        "outputId": "056414cb-fdd2-4e35-d21e-31afee5cc0d8"
      },
      "outputs": [
        {
          "output_type": "stream",
          "name": "stdout",
          "text": [
            "{'a': True, 'b': False}\n"
          ]
        }
      ],
      "source": [
        "dict1={'a':True,'b':False,'c':4}\n",
        "dict2={}\n",
        "for key,value in dict1.items():\n",
        "  if isinstance(key,str) and isinstance(value,bool):\n",
        "    dict2[key]=value\n",
        "print(dict2)"
      ]
    }
  ]
}