{
  "nbformat": 4,
  "nbformat_minor": 0,
  "metadata": {
    "colab": {
      "provenance": []
    },
    "kernelspec": {
      "name": "python3",
      "display_name": "Python 3"
    },
    "language_info": {
      "name": "python"
    }
  },
  "cells": [
    {
      "cell_type": "code",
      "execution_count": null,
      "metadata": {
        "id": "ALZ25IuEX2Sa"
      },
      "outputs": [],
      "source": [
        "dict1={}\n",
        "sum=0\n",
        "num=int(input(\"Enter total number of entries:\"))\n",
        "for i in range(num):\n",
        "  keys=input(\"Enter keys:\")\n",
        "  values=input(\"Enter values:\")\n",
        "  dict1[keys]=values\n",
        "print(\"Dictionary Values:\",dict1)\n",
        "for values in dict1.values():\n",
        "  sum=sum+int(values)\n",
        "print(\"Sum:\",sum)"
      ]
    },
    {
      "cell_type": "code",
      "source": [],
      "metadata": {
        "id": "IvTPs202nciB"
      },
      "execution_count": null,
      "outputs": []
    }
  ]
}