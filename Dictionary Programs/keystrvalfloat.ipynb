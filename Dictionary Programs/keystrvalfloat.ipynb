{
  "nbformat": 4,
  "nbformat_minor": 0,
  "metadata": {
    "colab": {
      "provenance": []
    },
    "kernelspec": {
      "name": "python3",
      "display_name": "Python 3"
    },
    "language_info": {
      "name": "python"
    }
  },
  "cells": [
    {
      "cell_type": "code",
      "execution_count": 1,
      "metadata": {
        "colab": {
          "base_uri": "https://localhost:8080/"
        },
        "id": "fZN9C1ZwZzd6",
        "outputId": "1724d0fe-d68c-4b3e-c5dc-ae2aed7347fe"
      },
      "outputs": [
        {
          "output_type": "stream",
          "name": "stdout",
          "text": [
            "{'a': 4.5, 'b': 5.6}\n"
          ]
        }
      ],
      "source": [
        "dict1={'a':4.5,'b':5.6,'c':7}\n",
        "dict2={}\n",
        "for key,value in dict1.items():\n",
        "  if isinstance(key,str) and isinstance(value,float):\n",
        "    dict2[key]=value\n",
        "print(dict2)"
      ]
    }
  ]
}