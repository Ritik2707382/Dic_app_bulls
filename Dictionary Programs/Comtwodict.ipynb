{
  "nbformat": 4,
  "nbformat_minor": 0,
  "metadata": {
    "colab": {
      "provenance": []
    },
    "kernelspec": {
      "name": "python3",
      "display_name": "Python 3"
    },
    "language_info": {
      "name": "python"
    }
  },
  "cells": [
    {
      "cell_type": "code",
      "execution_count": 17,
      "metadata": {
        "colab": {
          "base_uri": "https://localhost:8080/"
        },
        "id": "LhZ-f1lRy3cP",
        "outputId": "4e733f23-d9ca-46db-902c-b36ac864f6f9"
      },
      "outputs": [
        {
          "output_type": "stream",
          "name": "stdout",
          "text": [
            "Elements in dictionary are: {'a': 1, 'b': 2, 'c': 1, 'd': 2}\n"
          ]
        }
      ],
      "source": [
        "dict1={'a':1,'b':2}\n",
        "dict2={'c':1,'d':2}\n",
        "dict3={}\n",
        "# num=int(input(\"Enter the Total Number of Entries:\"))\n",
        "# for i in range(num):\n",
        "#   keys=input(\"Enter the key:\")\n",
        "#   values=input(\"Enter the value:\")\n",
        "#   dict1[keys]=values\n",
        "# print(\"Elements in Dictionary1 are:\",dict1)\n",
        "for key,value in dict1.items():\n",
        "  dict3[key]=value\n",
        "# print(dict3)\n",
        "# num=int(input(\"Enter the Total Number of Entries:\"))\n",
        "# for i in range(num):\n",
        "#   keys=input(\"Enter the key:\")\n",
        "#   values=input(\"Enter the value:\")\n",
        "#   dict2[keys]=values\n",
        "# print(\"Elements in Dictionary2 are:\",dict2)\n",
        "for key,value in dict2.items():\n",
        "  dict3[key]=value\n",
        "print(\"Elements in dictionary are:\",dict3)"
      ]
    }
  ]
}