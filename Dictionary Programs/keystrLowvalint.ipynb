{
  "nbformat": 4,
  "nbformat_minor": 0,
  "metadata": {
    "colab": {
      "provenance": []
    },
    "kernelspec": {
      "name": "python3",
      "display_name": "Python 3"
    },
    "language_info": {
      "name": "python"
    }
  },
  "cells": [
    {
      "cell_type": "code",
      "execution_count": 1,
      "metadata": {
        "colab": {
          "base_uri": "https://localhost:8080/"
        },
        "id": "wZRxwr81f7z_",
        "outputId": "9867602f-56c4-4d8d-ff26-6d31ffd08329"
      },
      "outputs": [
        {
          "output_type": "stream",
          "name": "stdout",
          "text": [
            "{'a': 1, 'c': 4}\n"
          ]
        }
      ],
      "source": [
        "dict1={'a':1,'B':2,'c':4,8:'s'}\n",
        "dict2={}\n",
        "for key,value in dict1.items():\n",
        "  if isinstance(key,str) and key.islower() and isinstance(value,int):\n",
        "    dict2[key]=value\n",
        "print(dict2)"
      ]
    }
  ]
}