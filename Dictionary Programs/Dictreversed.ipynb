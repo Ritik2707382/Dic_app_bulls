{
  "nbformat": 4,
  "nbformat_minor": 0,
  "metadata": {
    "colab": {
      "provenance": []
    },
    "kernelspec": {
      "name": "python3",
      "display_name": "Python 3"
    },
    "language_info": {
      "name": "python"
    }
  },
  "cells": [
    {
      "cell_type": "code",
      "execution_count": 5,
      "metadata": {
        "colab": {
          "base_uri": "https://localhost:8080/"
        },
        "id": "5fT51k_Ao4wx",
        "outputId": "ec3e23a3-f5ac-4f3d-af84-af5bd00a47a3"
      },
      "outputs": [
        {
          "output_type": "stream",
          "name": "stdout",
          "text": [
            "Enter the Total Number of Entries:3\n",
            "Enter the key:A\n",
            "Enter the value:1\n",
            "Enter the key:B\n",
            "Enter the value:2\n",
            "Enter the key:c\n",
            "Enter the value:3\n",
            "Elements in Dictionary are: {'A': '1', 'B': '2', 'c': '3'}\n",
            "Reversed Dictionary is: {'c': '3', 'B': '2', 'A': '1'}\n"
          ]
        }
      ],
      "source": [
        "dict1={}\n",
        "dict2={}\n",
        "num=int(input(\"Enter the Total Number of Entries:\"))\n",
        "for i in range(num):\n",
        "  keys=input(\"Enter the key:\")\n",
        "  values=input(\"Enter the value:\")\n",
        "  dict1[keys]=values\n",
        "print(\"Elements in Dictionary are:\",dict1)\n",
        "for values in reversed(dict1):\n",
        "  dict2[values]=dict1[values]\n",
        "print(\"Reversed Dictionary is:\",dict2)"
      ]
    }
  ]
}