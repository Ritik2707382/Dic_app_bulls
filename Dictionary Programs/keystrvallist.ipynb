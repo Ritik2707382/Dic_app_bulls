{
  "nbformat": 4,
  "nbformat_minor": 0,
  "metadata": {
    "colab": {
      "provenance": []
    },
    "kernelspec": {
      "name": "python3",
      "display_name": "Python 3"
    },
    "language_info": {
      "name": "python"
    }
  },
  "cells": [
    {
      "cell_type": "code",
      "execution_count": 1,
      "metadata": {
        "colab": {
          "base_uri": "https://localhost:8080/"
        },
        "id": "02hhwBPsQutc",
        "outputId": "45ea46f1-c714-4430-acf2-c2a1e5330fcb"
      },
      "outputs": [
        {
          "output_type": "stream",
          "name": "stdout",
          "text": [
            "{'a': [1], 'b': [2]}\n"
          ]
        }
      ],
      "source": [
        "dict1={'a':[1],'b':[2],'c':3}\n",
        "dict2={}\n",
        "for key,value in dict1.items():\n",
        "  if isinstance(key,str) and isinstance(value,list):\n",
        "    dict2[key]=value\n",
        "print(dict2)"
      ]
    }
  ]
}