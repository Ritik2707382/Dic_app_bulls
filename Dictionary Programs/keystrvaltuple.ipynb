{
  "nbformat": 4,
  "nbformat_minor": 0,
  "metadata": {
    "colab": {
      "provenance": []
    },
    "kernelspec": {
      "name": "python3",
      "display_name": "Python 3"
    },
    "language_info": {
      "name": "python"
    }
  },
  "cells": [
    {
      "cell_type": "code",
      "execution_count": 13,
      "metadata": {
        "colab": {
          "base_uri": "https://localhost:8080/"
        },
        "id": "c8vaMiBwUD1D",
        "outputId": "42a68ad0-9ed3-4d23-f776-3f232047dd06"
      },
      "outputs": [
        {
          "output_type": "stream",
          "name": "stdout",
          "text": [
            "{'a': (1,), 'b': (22, 3, 4), 'd': (4,)}\n"
          ]
        }
      ],
      "source": [
        "dict1={'a':(1,),'b':(22,3,4,),'c':3,'d':(4,)}\n",
        "dict2={}\n",
        "for key,value in dict1.items():\n",
        "  if isinstance(key,str) and isinstance(value,tuple):\n",
        "    dict2[key]=value\n",
        "print(dict2)"
      ]
    }
  ]
}