{
  "nbformat": 4,
  "nbformat_minor": 0,
  "metadata": {
    "colab": {
      "provenance": []
    },
    "kernelspec": {
      "name": "python3",
      "display_name": "Python 3"
    },
    "language_info": {
      "name": "python"
    }
  },
  "cells": [
    {
      "cell_type": "code",
      "execution_count": 3,
      "metadata": {
        "colab": {
          "base_uri": "https://localhost:8080/"
        },
        "id": "v3keBptDRu5x",
        "outputId": "ad4177b0-c769-4e34-ca2a-69d88c63ad25"
      },
      "outputs": [
        {
          "output_type": "stream",
          "name": "stdout",
          "text": [
            "{'a': {'b': 2, 'c': 3}, 'e': {'f': 4, 'g': 5}}\n"
          ]
        }
      ],
      "source": [
        "dict1={'a':{'b':2,'c':3},'e':{'f':4,'g':5},'d':4}\n",
        "dict2={}\n",
        "for key,value in dict1.items():\n",
        "  if isinstance(key,str) and isinstance(value,dict):\n",
        "    dict2[key]=value\n",
        "print(dict2)"
      ]
    }
  ]
}