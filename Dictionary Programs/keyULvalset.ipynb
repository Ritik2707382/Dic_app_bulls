{
  "nbformat": 4,
  "nbformat_minor": 0,
  "metadata": {
    "colab": {
      "provenance": []
    },
    "kernelspec": {
      "name": "python3",
      "display_name": "Python 3"
    },
    "language_info": {
      "name": "python"
    }
  },
  "cells": [
    {
      "cell_type": "code",
      "execution_count": 1,
      "metadata": {
        "colab": {
          "base_uri": "https://localhost:8080/"
        },
        "id": "LDw6899m0hk7",
        "outputId": "2b7a5704-91a6-443b-d1a9-d519a340ca95"
      },
      "outputs": [
        {
          "output_type": "stream",
          "name": "stdout",
          "text": [
            "dict2: {'Apple': {50}, 'Mango': {60}}\n"
          ]
        }
      ],
      "source": [
        "dict1={\"Apple\":{50},\"Mango\":{60},\"d\":40}\n",
        "dict2={}\n",
        "for key,value in dict1.items():\n",
        "  if isinstance(key,str) and isinstance(value,set):\n",
        "    for s in key:\n",
        "      if ord(s) in range(65,123):\n",
        "        dict2[key]=value\n",
        "print(\"dict2:\",dict2)"
      ]
    }
  ]
}