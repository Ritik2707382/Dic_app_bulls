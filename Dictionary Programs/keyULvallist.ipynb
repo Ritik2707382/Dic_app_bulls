{
  "nbformat": 4,
  "nbformat_minor": 0,
  "metadata": {
    "colab": {
      "provenance": []
    },
    "kernelspec": {
      "name": "python3",
      "display_name": "Python 3"
    },
    "language_info": {
      "name": "python"
    }
  },
  "cells": [
    {
      "cell_type": "code",
      "execution_count": 47,
      "metadata": {
        "colab": {
          "base_uri": "https://localhost:8080/"
        },
        "id": "b7HYKqZWhU3Y",
        "outputId": "bb85bbdc-b122-442f-9f26-c32a8f9547ec"
      },
      "outputs": [
        {
          "output_type": "stream",
          "name": "stdout",
          "text": [
            "dict2: {'Apple': [40], 'Banana': [30]}\n"
          ]
        }
      ],
      "source": [
        "dict1={'Apple':[40],'Banana':[30],'c':50,}\n",
        "dict2={}\n",
        "for key,value in dict1.items():\n",
        "  if isinstance(key,str) and isinstance(value,list):\n",
        "    for s in key:\n",
        "        if ord(s) in range(65,123):\n",
        "          #  print(ord(s),end=\" \")\n",
        "          dict2[key]=value\n",
        "print(\"dict2:\",dict2)"
      ]
    },
    {
      "cell_type": "code",
      "source": [
        "a=\"abcd\"\n",
        "for s in a:\n",
        "  print(s)"
      ],
      "metadata": {
        "colab": {
          "base_uri": "https://localhost:8080/"
        },
        "id": "Q7CADSFsoteU",
        "outputId": "e8623f88-e1bf-4c4b-b657-7754418b48ba"
      },
      "execution_count": 18,
      "outputs": [
        {
          "output_type": "stream",
          "name": "stdout",
          "text": [
            "a\n",
            "b\n",
            "c\n",
            "d\n"
          ]
        }
      ]
    }
  ]
}