{
  "nbformat": 4,
  "nbformat_minor": 0,
  "metadata": {
    "colab": {
      "provenance": []
    },
    "kernelspec": {
      "name": "python3",
      "display_name": "Python 3"
    },
    "language_info": {
      "name": "python"
    }
  },
  "cells": [
    {
      "cell_type": "code",
      "execution_count": 4,
      "metadata": {
        "colab": {
          "base_uri": "https://localhost:8080/"
        },
        "id": "Prg-hycva2pR",
        "outputId": "78528cb3-1eef-4b20-e6f8-556be0179b21"
      },
      "outputs": [
        {
          "output_type": "stream",
          "name": "stdout",
          "text": [
            "{'B': 'D', 'C': 'F'}\n"
          ]
        }
      ],
      "source": [
        "dict1={'A':'a','B':'D','C':'F','d':4}\n",
        "dict2={}\n",
        "for key,value in dict1.items():\n",
        "  if isinstance(key,str) and isinstance(value,str) and value.isupper():\n",
        "    dict2[key]=value\n",
        "print(dict2)"
      ]
    }
  ]
}