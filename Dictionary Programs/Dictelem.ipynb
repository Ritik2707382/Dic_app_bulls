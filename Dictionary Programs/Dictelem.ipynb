{
  "nbformat": 4,
  "nbformat_minor": 0,
  "metadata": {
    "colab": {
      "provenance": []
    },
    "kernelspec": {
      "name": "python3",
      "display_name": "Python 3"
    },
    "language_info": {
      "name": "python"
    }
  },
  "cells": [
    {
      "cell_type": "code",
      "execution_count": 11,
      "metadata": {
        "id": "sXCIIu5YuJXW",
        "colab": {
          "base_uri": "https://localhost:8080/"
        },
        "outputId": "61bb34be-9d3a-4597-e6ae-086b33edd069"
      },
      "outputs": [
        {
          "output_type": "stream",
          "name": "stdout",
          "text": [
            "Reversed Dictionary is: {1: 'a', 2: 'b'}\n"
          ]
        }
      ],
      "source": [
        "dict1={'a':1,'b':2}\n",
        "dict2={}\n",
        "for key,value in dict1.items():\n",
        "  dict2[value]=key\n",
        "print(\"Reversed Dictionary is:\",dict2)"
      ]
    }
  ]
}