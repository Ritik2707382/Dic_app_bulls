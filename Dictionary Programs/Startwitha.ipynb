{
  "nbformat": 4,
  "nbformat_minor": 0,
  "metadata": {
    "colab": {
      "provenance": []
    },
    "kernelspec": {
      "name": "python3",
      "display_name": "Python 3"
    },
    "language_info": {
      "name": "python"
    }
  },
  "cells": [
    {
      "cell_type": "code",
      "execution_count": 1,
      "metadata": {
        "id": "MD6VwP1suRhR",
        "colab": {
          "base_uri": "https://localhost:8080/"
        },
        "outputId": "35fb6c39-388e-4fc6-a0ab-3821014d40cb"
      },
      "outputs": [
        {
          "output_type": "stream",
          "name": "stdout",
          "text": [
            "{'a': 2}\n"
          ]
        }
      ],
      "source": [
        "dict1={'a':2,'b':5,'c':4}\n",
        "dict2={}\n",
        "for key,value in dict1.items():\n",
        "  if key=='a':\n",
        "    dict2[key]=value\n",
        "    print(dict2)"
      ]
    }
  ]
}