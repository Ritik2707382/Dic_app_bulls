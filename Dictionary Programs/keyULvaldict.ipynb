{
  "nbformat": 4,
  "nbformat_minor": 0,
  "metadata": {
    "colab": {
      "provenance": []
    },
    "kernelspec": {
      "name": "python3",
      "display_name": "Python 3"
    },
    "language_info": {
      "name": "python"
    }
  },
  "cells": [
    {
      "cell_type": "code",
      "execution_count": 1,
      "metadata": {
        "colab": {
          "base_uri": "https://localhost:8080/"
        },
        "id": "-Vdny93Zxu7P",
        "outputId": "1c249458-1f80-4db7-e681-0907dceabb40"
      },
      "outputs": [
        {
          "output_type": "stream",
          "name": "stdout",
          "text": [
            "dict2: {'Apple': {'a': 4, 'b': 5}, 'Mango': {'c': 5, 'd': 6}}\n"
          ]
        }
      ],
      "source": [
        "dict1={\"Apple\":{\"a\":4,\"b\":5},\"Mango\":{\"c\":5,\"d\":6},\"d\":4}\n",
        "dict2={}\n",
        "for key,value in dict1.items():\n",
        "  if isinstance(key,str) and isinstance(value,dict):\n",
        "    for s in key:\n",
        "      if ord(s) in range(65,123):\n",
        "        dict2[key]=value\n",
        "print(\"dict2:\",dict2)"
      ]
    }
  ]
}