{
  "nbformat": 4,
  "nbformat_minor": 0,
  "metadata": {
    "colab": {
      "provenance": []
    },
    "kernelspec": {
      "name": "python3",
      "display_name": "Python 3"
    },
    "language_info": {
      "name": "python"
    }
  },
  "cells": [
    {
      "cell_type": "code",
      "execution_count": 2,
      "metadata": {
        "colab": {
          "base_uri": "https://localhost:8080/"
        },
        "id": "Ucm7w0ZCXj6N",
        "outputId": "8e4f3bde-be56-49d6-c03c-fb23c5f90f8a"
      },
      "outputs": [
        {
          "output_type": "stream",
          "name": "stdout",
          "text": [
            "{'a': {1, 2}, 'b': {3, 4}, 'd': {6, 7}}\n"
          ]
        }
      ],
      "source": [
        "dict1={'a':{1,2},'b':{3,4},'c':5,'d':{6,7}}\n",
        "dict2={}\n",
        "for key,value in dict1.items():\n",
        "  if isinstance(key,str) and isinstance(value,set):\n",
        "    dict2[key]=value\n",
        "print(dict2)"
      ]
    }
  ]
}