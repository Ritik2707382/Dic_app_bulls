{
  "nbformat": 4,
  "nbformat_minor": 0,
  "metadata": {
    "colab": {
      "provenance": []
    },
    "kernelspec": {
      "name": "python3",
      "display_name": "Python 3"
    },
    "language_info": {
      "name": "python"
    }
  },
  "cells": [
    {
      "cell_type": "code",
      "execution_count": 9,
      "metadata": {
        "id": "FHMgoGvW4ao1",
        "colab": {
          "base_uri": "https://localhost:8080/"
        },
        "outputId": "915510fc-f902-4b17-a5b7-36f74ba1facf"
      },
      "outputs": [
        {
          "output_type": "stream",
          "name": "stdout",
          "text": [
            "Enter total number of entries:4\n",
            "Enter keys:g\n",
            "Enter values:2\n",
            "Enter keys:f\n",
            "Enter values:3\n",
            "Enter keys:c\n",
            "Enter values:4\n",
            "Enter keys:q\n",
            "Enter values:1\n",
            "Dictionary Values: {'g': '2', 'f': '3', 'c': '4', 'q': '1'}\n",
            "[('c', '4'), ('f', '3'), ('g', '2'), ('q', '1')]\n",
            "The Keys in Alphabetric Order: {'c': '4', 'f': '3', 'g': '2', 'q': '1'}\n"
          ]
        }
      ],
      "source": [
        "from textwrap import shorten\n",
        "dict1={}\n",
        "num=int(input(\"Enter total number of entries:\"))\n",
        "for i in range(num):\n",
        "  keys=input(\"Enter keys:\")\n",
        "  values=input(\"Enter values:\")\n",
        "  dict1[keys]=values\n",
        "print(\"Dictionary Values:\",dict1)\n",
        "sorted_list=sorted(dict1.items())\n",
        "print(sorted_list)\n",
        "dict2={}\n",
        "for keys,values in sorted_list:\n",
        "  dict2[keys]=values\n",
        "print(\"The Keys in Alphabetric Order:\",dict2)"
      ]
    }
  ]
}