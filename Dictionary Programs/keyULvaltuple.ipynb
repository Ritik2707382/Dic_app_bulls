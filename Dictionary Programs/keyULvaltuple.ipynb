{
  "nbformat": 4,
  "nbformat_minor": 0,
  "metadata": {
    "colab": {
      "provenance": []
    },
    "kernelspec": {
      "name": "python3",
      "display_name": "Python 3"
    },
    "language_info": {
      "name": "python"
    }
  },
  "cells": [
    {
      "cell_type": "code",
      "execution_count": 1,
      "metadata": {
        "colab": {
          "base_uri": "https://localhost:8080/"
        },
        "id": "TcI43lfczVPd",
        "outputId": "ed3ace75-3057-4191-adbc-ca99cb8f1666"
      },
      "outputs": [
        {
          "output_type": "stream",
          "name": "stdout",
          "text": [
            "dict2: {'Apple': (40, 60), 'Mango': (50, 90)}\n"
          ]
        }
      ],
      "source": [
        "dict1={\"Apple\":(40,60,),\"Mango\":(50,90,),\"d\":45}\n",
        "dict2={}\n",
        "for key,value in dict1.items():\n",
        "  if isinstance(key,str) and isinstance(value,tuple):\n",
        "    for s in key:\n",
        "      if ord(s) in range(65,123):\n",
        "        dict2[key]=value\n",
        "print(\"dict2:\",dict2)"
      ]
    }
  ]
}